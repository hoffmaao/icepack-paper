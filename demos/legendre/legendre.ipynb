{
 "cells": [
  {
   "cell_type": "code",
   "execution_count": null,
   "metadata": {},
   "outputs": [],
   "source": [
    "%matplotlib notebook\n",
    "import matplotlib.pyplot as plt\n",
    "import sympy\n",
    "import numpy"
   ]
  },
  {
   "cell_type": "code",
   "execution_count": null,
   "metadata": {},
   "outputs": [],
   "source": [
    "def legendre(n, ζ):\n",
    "    return sympy.functions.special.polynomials.legendre(n, 2 * ζ - 1)"
   ]
  },
  {
   "cell_type": "code",
   "execution_count": null,
   "metadata": {},
   "outputs": [],
   "source": [
    "def pressure_approx(N):\n",
    "    ζ, ζ_sl = sympy.symbols('ζ ζ_sl', real=True, positive=True)\n",
    "    \n",
    "    def coefficient(n):\n",
    "        Sn = legendre(n, ζ)\n",
    "        norm_square = sympy.integrate(Sn**2, (ζ, 0, 1))\n",
    "        return sympy.integrate((ζ_sl - ζ) * Sn, (ζ, 0, ζ_sl)) / norm_square\n",
    "    \n",
    "    polynomial = sum([coefficient(n) * legendre(n, ζ) for n in range(N)])\n",
    "    return sympy.lambdify((ζ, ζ_sl), sympy.simplify(polynomial))"
   ]
  },
  {
   "cell_type": "code",
   "execution_count": null,
   "metadata": {},
   "outputs": [],
   "source": [
    "ζs = numpy.linspace(0, 1, 101)\n",
    "ζ_sl = 0.33\n",
    "ps = numpy.maximum(ζ_sl - ζs, 0)"
   ]
  },
  {
   "cell_type": "code",
   "execution_count": null,
   "metadata": {},
   "outputs": [],
   "source": [
    "fig, axes = plt.subplots(ncols=2, sharey=True)\n",
    "axes[0].plot(ps, ζs, color='k', linewidth=2, label='exact')\n",
    "axes[0].set_ylabel('normalized depth, ζ')\n",
    "axes[0].set_xlabel('pressure')\n",
    "axes[1].set_xlabel('pressure error')\n",
    "\n",
    "for N in range(1, 4):\n",
    "    polynomial = pressure_approx(N + 1)\n",
    "    ps_approx = numpy.array([polynomial(ζ, ζ_sl) for ζ in ζs])\n",
    "    axes[0].plot(ps_approx, ζs, label='degree {}'.format(N))\n",
    "    axes[1].plot(ps - ps_approx, ζs, label='degree {}'.format(N))\n",
    "    \n",
    "axes[0].legend()\n",
    "\n",
    "fig.savefig('pressure.png', bbox_inches='tight', dpi=300)"
   ]
  }
 ],
 "metadata": {
  "kernelspec": {
   "display_name": "firedrake",
   "language": "python",
   "name": "firedrake"
  },
  "language_info": {
   "name": "python",
   "pygments_lexer": "ipython3"
  }
 },
 "nbformat": 4,
 "nbformat_minor": 2
}
